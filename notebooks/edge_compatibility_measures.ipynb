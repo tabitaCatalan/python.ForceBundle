{
 "cells": [
  {
   "cell_type": "code",
   "execution_count": 13,
   "metadata": {},
   "outputs": [],
   "source": [
    "import ipywidgets as widgets\n",
    "from ipywidgets import interact, interact_manual\n",
    "import numpy as np\n",
    "import matplotlib.pyplot as plt"
   ]
  },
  {
   "cell_type": "markdown",
   "metadata": {},
   "source": [
    "# Aristas"
   ]
  },
  {
   "cell_type": "code",
   "execution_count": 14,
   "metadata": {},
   "outputs": [],
   "source": [
    "class Edge: \n",
    "    \n",
    "    def __init__(self, x0, y0, x1, y1, segments = 1):\n",
    "        self.P0 = np.array([x0,y0])\n",
    "        self.P1 = np.array([x1,y1])\n",
    "        self.N = segments\n",
    "        self.points = np.array([(i/self.N) * (self.P1-self.P0) + self.P0 for i in range(0, self.N+1)])\n",
    "        \n",
    "    def get_P0(self):\n",
    "        return self.P0\n",
    "    \n",
    "    def get_P1(self):\n",
    "        return self.P1 \n",
    "    \n",
    "    def get_points(self):\n",
    "        return self.points\n",
    "\n",
    "    def get_len(self):\n",
    "        return np.linalg.norm(self.P0 - self.P1)\n",
    "    \n",
    "    def get_kp(self):\n",
    "        return self.get_len()/self.N\n",
    "    \n",
    "    def apply_force(self, F, ds):\n",
    "        self.points[1:-1] += F * ds\n",
    "    \n",
    "    def get_midpoint(self):\n",
    "        return (self.P1 + self.P0)/2\n",
    "       "
   ]
  },
  {
   "cell_type": "code",
   "execution_count": 15,
   "metadata": {},
   "outputs": [],
   "source": [
    "def spring_force(p, p_other, kp):\n",
    "    return kp * (p_other - p)\n",
    "\n",
    "def electro_force(p, p_other, C):\n",
    "    lp = np.linalg.norm(p_other - p)\n",
    "    return C* (p_other - p)/lp**2\n",
    "\n",
    "def calcular_fuerzas(ps, qs, i, kp, C):\n",
    "    \"\"\"\n",
    "    - ps: todos los nodos de la arista que recibe la fuerza, incluyendo extremos\n",
    "    - qs: todos los nodos de la arista que aplica la fuerza, incluyendo extremos\n",
    "    - i: un index interior de p (ni el primero ni el ultimo), el del nodo que recibe la fuerza\n",
    "    - kp: constante de resorte de la arista P\n",
    "    - kq: constante de resorte de la arista Q\n",
    "    - C: compatibilidad\n",
    "    \"\"\"\n",
    "    Fp = spring_force(ps[i], ps[i-1], kp) + spring_force(ps[i], ps[i+1], kp) + electro_force(ps[i], qs[i], C)\n",
    "    return Fp\n",
    "\n",
    "def bundling_iteration(P, Q, ds = 0.1, C = 1.0):\n",
    "    ps = P.get_points()\n",
    "    qs = Q.get_points()\n",
    "    kp = P.get_kp()\n",
    "    kq = Q.get_kp()\n",
    "\n",
    "    inner_range = range(1, len(ps)-1)\n",
    "    \n",
    "    Fp = np.array([calcular_fuerzas(ps, qs, i, kp, C) for i in inner_range])\n",
    "    Fq = np.array([calcular_fuerzas(qs, ps, i, kq, C) for i in inner_range])\n",
    "    P.apply_force(Fp, ds)\n",
    "    Q.apply_force(Fq, ds)\n",
    "    \n",
    "\n",
    "def plot_points(ps, label = \"\"):\n",
    "    plt.plot(ps[:,0],ps[:,1], '-o', label = label)\n",
    "\n",
    "def plot_edges(Ps, labels):\n",
    "    for P, lab in zip(Ps, labels):\n",
    "        plot_points(P.get_points(), label = lab)"
   ]
  },
  {
   "cell_type": "code",
   "execution_count": 16,
   "metadata": {},
   "outputs": [
    {
     "data": {
      "application/vnd.jupyter.widget-view+json": {
       "model_id": "3bd9046196d6411bba3c9a68b8a1b726",
       "version_major": 2,
       "version_minor": 0
      },
      "text/plain": [
       "interactive(children=(FloatSlider(value=0.0, description='ds', max=1.0), IntSlider(value=5, description='N', m…"
      ]
     },
     "metadata": {},
     "output_type": "display_data"
    }
   ],
   "source": [
    "@interact\n",
    "def bundle_and_plot(ds=0.0, N = (3, 8, 1)):\n",
    "    P = Edge(0.5, 1., 5., 3., N)\n",
    "    Q = Edge(1., 4., 6., 2., N)\n",
    "    bundling_iteration(P, Q, ds)    \n",
    "    plt.figure()\n",
    "    plt.title(\"Aristas Deformadas\")\n",
    "    plot_edges([P, Q], [\"P\", \"Q\"])   \n"
   ]
  },
  {
   "cell_type": "markdown",
   "metadata": {},
   "source": [
    "# Medidas de compatibilidad de aristas\n",
    "\n",
    "Para dos aristas $P$ y $Q$, definiremos una serie de medidas que toman valores en $[0,1]$. Mientras mayor el valor de la medida, diremos que mayor es la compatibilidad de esas aristas.\n",
    "\n",
    "## Compatibilidad de ángulos\n",
    "\n",
    "Mientras más perpendiculares son dos aristas, menos deberían deformarse la una a la otra. Definimos\n",
    "$$\n",
    "C_\\alpha(P,Q) = |\\cos(\\alpha)|\n",
    "$$\n",
    "donde $\\alpha = \\frac{\\arccos(P \\cdot Q)}{|P| \\, |Q|}$ (aquí hay un abuso de notación, $P \\cdot Q$ se refiere al producto punto $\\langle P_0 - P_1, Q_0 - Q_1 \\rangle$), es decir, el ángulo entre las dos aristas. Notamos que si $P$ y $Q$ son paralelas, entonces $\\alpha = 0$ y $C_\\alpha(P,Q) = 1$; la compatibilidad es máxima. Si $P$ y $Q$ son perpendiculares, entonces $\\alpha = \\frac{\\pi}{2}$ y $C_\\alpha(P,Q) = 0$ (compatibilidad mínima)."
   ]
  },
  {
   "cell_type": "code",
   "execution_count": 28,
   "metadata": {},
   "outputs": [],
   "source": [
    "def C_a(P,Q):\n",
    "    vecP = P.get_P1() - P.get_P0()\n",
    "    vecQ = Q.get_P1() - Q.get_P0()\n",
    "    Ca = np.dot(vecP, vecQ)/ (P.get_len() * Q.get_len())\n",
    "    return max(0., Ca)"
   ]
  },
  {
   "cell_type": "code",
   "execution_count": 31,
   "metadata": {},
   "outputs": [
    {
     "data": {
      "application/vnd.jupyter.widget-view+json": {
       "model_id": "7dddd26742ba4780a64dc0cb83dbe628",
       "version_major": 2,
       "version_minor": 0
      },
      "text/plain": [
       "interactive(children=(FloatSlider(value=0.0, description='angle_mult', max=1.0, min=-1.0), FloatSlider(value=0…"
      ]
     },
     "metadata": {},
     "output_type": "display_data"
    }
   ],
   "source": [
    "@interact\n",
    "def changing_angle_and_plot(angle_mult = (-1.0, 1.0, 0.1), ds = (0.0, 0.5, 0.05)):\n",
    "    a = angle_mult * np.pi\n",
    "    N = 5\n",
    "    L = 3.\n",
    "    P = Edge(-L, 0., L, 0., N)\n",
    "    Phat = Edge(-L, 0., L, 0., N)\n",
    "    Q = Edge(-L*np.cos(a), -L * np.sin(a), L*np.cos(a), L*np.sin(a), N)\n",
    "    Qhat = Edge(-L*np.cos(a), -L * np.sin(a), L*np.cos(a), L*np.sin(a), N)\n",
    "    bundling_iteration(P, Q, ds)\n",
    "    ca = C_a(Phat, Qhat)\n",
    "    bundling_iteration(Phat, Qhat, ds, ca)    \n",
    "    plt.figure(figsize = (10,5))\n",
    "    plt.subplot(121)\n",
    "    plt.title(f\"Sin C_a, alpha = {angle_mult} pi\")\n",
    "    plt.xlim = (-3,3)\n",
    "    plt.axis('equal')\n",
    "    plot_edges([P, Q], [\"P\", \"Q\"])  \n",
    "    plt.subplot(122)\n",
    "    plt.title(f\"Con C_a = {ca:.2}\")\n",
    "    plt.xlim = (-3,3)\n",
    "    plt.axis('equal')\n",
    "    plot_edges([Phat, Qhat], [\"P\", \"Q\"])  "
   ]
  },
  {
   "cell_type": "markdown",
   "metadata": {},
   "source": [
    "*Encontré un efecto indeseado, las aristas enumeradas en sentido opuesto se deforman excesivamente*"
   ]
  },
  {
   "cell_type": "markdown",
   "metadata": {},
   "source": [
    "## Compatibilidad de escala\n",
    "\n",
    "Mientras más distintos son los largos de dos aristas, menos deberían deformarse la una a la otra. Definimos \n",
    "$$\n",
    "C_S(P,Q) = \\frac{2}{l_{avg} \\min(|P|, |Q|) + \\max(|P|, |Q|)/l_{avg}}\n",
    "$$\n",
    "donde $l_{avg} = \\frac{|P| + |Q|}{2}$.\n",
    "\n",
    "Notamos que la función que define el paper tiene un error. La idea de esta medida es que si el ratio $|P|/|Q| \\approx 1$, entonces la compatibilidad sea máxima ($C_S(P,Q) \\approx 1$), y si una arista es mucho más grande que la otra, ie. ratio $|P|/|Q| \\to \\infty$, entonces la compatibilidad sea mínima ($C_S(P,Q) \\approx 0$). Eso no se logra en esa función, pero puede corregirse cambiando en el denominador $l_{avg} \\min(|P|, |Q|) $ a $\\frac{l_{avg}}{\\min(|P|, |Q|)}$. La nueva función \n",
    "$$\n",
    "C_S(P,Q) = \\frac{2}{\\frac{l_{avg}}{\\min(|P|, |Q|)} + \\max(|P|, |Q|)/l_{avg}}\n",
    "$$\n",
    "da muchos mejores resultados, como puede verse en el gráfico de más abajo:"
   ]
  },
  {
   "cell_type": "code",
   "execution_count": 18,
   "metadata": {},
   "outputs": [
    {
     "data": {
      "image/png": "[encoded data removed]",
      "text/plain": [
       "<Figure size 720x360 with 4 Axes>"
      ]
     },
     "metadata": {
      "needs_background": "light"
     },
     "output_type": "display_data"
    }
   ],
   "source": [
    "Cs_paper = lambda x,y: 2/((x+y)/2 * np.minimum(x,y) + np.maximum(x,y)*2/(x+y))\n",
    "Cs_modif = lambda x,y: 2/((x+y)/2 /np.minimum(x,y) + np.maximum(x,y)*2/(x+y))\n",
    "\n",
    "xs = np.linspace(0.001,5.001, 100)\n",
    "ys = np.linspace(0.001,5.001, 100)\n",
    "X, Y = np.meshgrid(xs, ys)\n",
    "plt.figure(figsize = (10,5))\n",
    "plt.subplot(121)\n",
    "plt.title(\"Cs paper\")\n",
    "plt.contourf(X, Y, Cs_paper(X,Y))\n",
    "plt.colorbar()\n",
    "plt.subplot(122)\n",
    "plt.title(\"Cs modificada\")\n",
    "plt.contourf(X, Y, Cs_modif(X,Y))\n",
    "plt.colorbar()\n",
    "plt.show()"
   ]
  },
  {
   "cell_type": "code",
   "execution_count": 19,
   "metadata": {},
   "outputs": [],
   "source": [
    "def C_S(P,Q):\n",
    "    lenP = P.get_len()\n",
    "    lenQ = Q.get_len()\n",
    "    lavg = (lenP + lenQ)/2\n",
    "    return 2/(lavg / min(lenP, lenQ) + max(lenP, lenQ)/lavg)"
   ]
  },
  {
   "cell_type": "code",
   "execution_count": 20,
   "metadata": {},
   "outputs": [
    {
     "data": {
      "application/vnd.jupyter.widget-view+json": {
       "model_id": "4ea3e5f35351404aa728fdba011c0081",
       "version_major": 2,
       "version_minor": 0
      },
      "text/plain": [
       "interactive(children=(FloatSlider(value=8.0, description='L', max=15.0, min=2.0, step=1.0), FloatSlider(value=…"
      ]
     },
     "metadata": {},
     "output_type": "display_data"
    }
   ],
   "source": [
    "@interact\n",
    "def changing_len_and_plot(L = (2., 15.0, 1.), ds = (0.0, 0.8, 0.05)):\n",
    "    N = 8\n",
    "    P = Edge(-L/2, 1.5, L/2, 1.5, N)\n",
    "    Phat = Edge(-L/2, 1.5, L/2, 1.5, N)\n",
    "    Q = Edge(-1., 0., 1., 0., N)\n",
    "    Qhat = Edge(-1., 0., 1., 0., N)\n",
    "    bundling_iteration(P, Q, ds)\n",
    "    cs = C_S(Phat, Qhat)\n",
    "    bundling_iteration(Phat, Qhat, ds, cs)    \n",
    "    plt.figure(figsize = (10,7))\n",
    "    ax1 = plt.subplot(211)\n",
    "    ax1.set_title(f\"Sin C_s, Largo = {L}\")\n",
    "    ax1.set_xlim((-5.2,5.2))\n",
    "    ax1.set_ylim((0,2))\n",
    "    plot_edges([P, Q], [\"P\", \"Q\"])  \n",
    "    ax2 = plt.subplot(212)\n",
    "    ax2.set_title(f\"Con C_s = {cs:.2}\")\n",
    "    ax2.set_xlim((-5.2,5.2))\n",
    "    ax2.set_ylim((0,2))\n",
    "    plot_edges([Phat, Qhat], [\"P\", \"Q\"])  "
   ]
  },
  {
   "cell_type": "markdown",
   "metadata": {},
   "source": [
    "## Compatibilidad de posición\n",
    "\n",
    "Aristas muy lejanas no deberían doblarse entre ellas. Se define\n",
    "$$\n",
    "C_P(P,Q) = \\frac{l_{avg}}{l_{avg} + \\|P_m - Q_m\\|}\n",
    "$$\n",
    "donde $P_m, Q_m$ son los puntos medios de $P$ y $Q$ respectivamente.\n",
    "\n",
    "Notamos que mientras más cercano están los puntos medios de dos aristas, más cercano a 1 es $C_P$. En particular, si $P_m = Q_m$, entonces $C_P = 1$. Cuando los puntos medios son lejanos, la compatibilidad se acerca a 0."
   ]
  },
  {
   "cell_type": "code",
   "execution_count": 24,
   "metadata": {},
   "outputs": [],
   "source": [
    "def C_P(P,Q):\n",
    "    lavg = (P.get_len() + Q.get_len())/2\n",
    "    Pm = P.get_midpoint()\n",
    "    Qm = Q.get_midpoint()    \n",
    "    return lavg/(lavg + np.linalg.norm(Pm - Qm))"
   ]
  },
  {
   "cell_type": "code",
   "execution_count": 28,
   "metadata": {},
   "outputs": [
    {
     "data": {
      "application/vnd.jupyter.widget-view+json": {
       "model_id": "64a9ed0d75b24562ba695850181b3c26",
       "version_major": 2,
       "version_minor": 0
      },
      "text/plain": [
       "interactive(children=(FloatSlider(value=2.5, description='altura', max=5.0, step=0.5), FloatSlider(value=0.4, …"
      ]
     },
     "metadata": {},
     "output_type": "display_data"
    }
   ],
   "source": [
    "@interact\n",
    "def changing_len_and_plot(altura = (0.0, 5.0, 0.5), ds = (0.0, 0.8, 0.05)):\n",
    "    N = 8\n",
    "    P = Edge(-2, altura, 2, altura, N)\n",
    "    Phat = Edge(-2, altura, 2, altura, N)\n",
    "    Q = Edge(-2., 0., 2., 0., N)\n",
    "    Qhat = Edge(-2., 0., 2., 0., N)\n",
    "    bundling_iteration(P, Q, ds)\n",
    "    cp = C_P(Phat, Qhat)\n",
    "    bundling_iteration(Phat, Qhat, ds, cp)    \n",
    "    plt.figure(figsize = (10,7))\n",
    "    ax1 = plt.subplot(211)\n",
    "    ax1.set_title(f\"Sin C_p, |Pm - Qm| = {altura}\")\n",
    "    ax1.set_xlim((-2.5,2.5))\n",
    "    ax1.set_ylim((-0.5,5.5))\n",
    "    plot_edges([P, Q], [\"P\", \"Q\"])  \n",
    "    ax2 = plt.subplot(212)\n",
    "    ax2.set_title(f\"Con C_p = {cp:.2}\")\n",
    "    ax2.set_xlim((-2.5,2.5))\n",
    "    ax2.set_ylim((-0.5,5.5))\n",
    "    plot_edges([Phat, Qhat], [\"P\", \"Q\"])  "
   ]
  },
  {
   "attachments": {
    "image.png": {
     "image/png": "[encoded data removed]"
    }
   },
   "cell_type": "markdown",
   "metadata": {},
   "source": [
    "## Compatibilidad de visibilidad\n",
    "\n",
    "Aristas fuera del \"campo de visión\" deberían influir tener menos influencia. Se define \n",
    "$$\n",
    "C_V(P,Q) = \\min(V(P,Q), V(Q,P))\n",
    "$$\n",
    "donde $V(P,Q) = \\max(1 - 2\\frac{\\|P_m - I_m\\|}{\\|I_0 - I_1\\|}, 0)$. $I$ corresponde a la sección de la arista $P$ extendida que es *visible* desde $Q$ (ver imagen)\n",
    "![image.png](attachment:image.png)\n"
   ]
  },
  {
   "cell_type": "code",
   "execution_count": 108,
   "metadata": {},
   "outputs": [],
   "source": [
    "#np.dot(vecP, vecQ)/ \n",
    "P.get_len()"
   ]
  },
  {
   "cell_type": "code",
   "execution_count": 100,
   "metadata": {},
   "outputs": [
    {
     "data": {
      "text/plain": [
       "18.5"
      ]
     },
     "execution_count": 100,
     "metadata": {},
     "output_type": "execute_result"
    }
   ],
   "source": [
    "P.get_len()"
   ]
  },
  {
   "cell_type": "code",
   "execution_count": 50,
   "metadata": {},
   "outputs": [
    {
     "ename": "AxisError",
     "evalue": "axis 2 is out of bounds for array of dimension 0",
     "output_type": "error",
     "traceback": [
      "\u001b[1;31m---------------------------------------------------------------------------\u001b[0m",
      "\u001b[1;31mAxisError\u001b[0m                                 Traceback (most recent call last)",
      "\u001b[1;32m<ipython-input-50-39eade60c2e0>\u001b[0m in \u001b[0;36m<module>\u001b[1;34m\u001b[0m\n\u001b[1;32m----> 1\u001b[1;33m \u001b[0mnp\u001b[0m\u001b[1;33m.\u001b[0m\u001b[0mmin\u001b[0m\u001b[1;33m(\u001b[0m\u001b[1;36m1\u001b[0m\u001b[1;33m,\u001b[0m\u001b[1;36m2\u001b[0m\u001b[1;33m)\u001b[0m\u001b[1;33m\u001b[0m\u001b[1;33m\u001b[0m\u001b[0m\n\u001b[0m",
      "\u001b[1;32m<__array_function__ internals>\u001b[0m in \u001b[0;36mamin\u001b[1;34m(*args, **kwargs)\u001b[0m\n",
      "\u001b[1;32m~\\anaconda3\\envs\\force_bundle\\lib\\site-packages\\numpy\\core\\fromnumeric.py\u001b[0m in \u001b[0;36mamin\u001b[1;34m(a, axis, out, keepdims, initial, where)\u001b[0m\n\u001b[0;32m   2828\u001b[0m     \u001b[1;36m6\u001b[0m\u001b[1;33m\u001b[0m\u001b[1;33m\u001b[0m\u001b[0m\n\u001b[0;32m   2829\u001b[0m     \"\"\"\n\u001b[1;32m-> 2830\u001b[1;33m     return _wrapreduction(a, np.minimum, 'min', axis, None, out,\n\u001b[0m\u001b[0;32m   2831\u001b[0m                           keepdims=keepdims, initial=initial, where=where)\n\u001b[0;32m   2832\u001b[0m \u001b[1;33m\u001b[0m\u001b[0m\n",
      "\u001b[1;32m~\\anaconda3\\envs\\force_bundle\\lib\\site-packages\\numpy\\core\\fromnumeric.py\u001b[0m in \u001b[0;36m_wrapreduction\u001b[1;34m(obj, ufunc, method, axis, dtype, out, **kwargs)\u001b[0m\n\u001b[0;32m     85\u001b[0m                 \u001b[1;32mreturn\u001b[0m \u001b[0mreduction\u001b[0m\u001b[1;33m(\u001b[0m\u001b[0maxis\u001b[0m\u001b[1;33m=\u001b[0m\u001b[0maxis\u001b[0m\u001b[1;33m,\u001b[0m \u001b[0mout\u001b[0m\u001b[1;33m=\u001b[0m\u001b[0mout\u001b[0m\u001b[1;33m,\u001b[0m \u001b[1;33m**\u001b[0m\u001b[0mpasskwargs\u001b[0m\u001b[1;33m)\u001b[0m\u001b[1;33m\u001b[0m\u001b[1;33m\u001b[0m\u001b[0m\n\u001b[0;32m     86\u001b[0m \u001b[1;33m\u001b[0m\u001b[0m\n\u001b[1;32m---> 87\u001b[1;33m     \u001b[1;32mreturn\u001b[0m \u001b[0mufunc\u001b[0m\u001b[1;33m.\u001b[0m\u001b[0mreduce\u001b[0m\u001b[1;33m(\u001b[0m\u001b[0mobj\u001b[0m\u001b[1;33m,\u001b[0m \u001b[0maxis\u001b[0m\u001b[1;33m,\u001b[0m \u001b[0mdtype\u001b[0m\u001b[1;33m,\u001b[0m \u001b[0mout\u001b[0m\u001b[1;33m,\u001b[0m \u001b[1;33m**\u001b[0m\u001b[0mpasskwargs\u001b[0m\u001b[1;33m)\u001b[0m\u001b[1;33m\u001b[0m\u001b[1;33m\u001b[0m\u001b[0m\n\u001b[0m\u001b[0;32m     88\u001b[0m \u001b[1;33m\u001b[0m\u001b[0m\n\u001b[0;32m     89\u001b[0m \u001b[1;33m\u001b[0m\u001b[0m\n",
      "\u001b[1;31mAxisError\u001b[0m: axis 2 is out of bounds for array of dimension 0"
     ]
    }
   ],
   "source": []
  },
  {
   "cell_type": "code",
   "execution_count": 112,
   "metadata": {},
   "outputs": [
    {
     "data": {
      "text/plain": [
       "array([1., 1., 1., 1., 1., 1., 1., 1., 1., 1.])"
      ]
     },
     "execution_count": 112,
     "metadata": {},
     "output_type": "execute_result"
    }
   ],
   "source": [
    "\n"
   ]
  },
  {
   "cell_type": "code",
   "execution_count": 94,
   "metadata": {},
   "outputs": [
    {
     "ename": "TypeError",
     "evalue": "only integer scalar arrays can be converted to a scalar index",
     "output_type": "error",
     "traceback": [
      "\u001b[1;31m---------------------------------------------------------------------------\u001b[0m",
      "\u001b[1;31mTypeError\u001b[0m                                 Traceback (most recent call last)",
      "\u001b[1;32m<ipython-input-94-65e3d3940338>\u001b[0m in \u001b[0;36m<module>\u001b[1;34m\u001b[0m\n\u001b[0;32m      1\u001b[0m \u001b[0mx\u001b[0m \u001b[1;33m=\u001b[0m \u001b[0mnp\u001b[0m\u001b[1;33m.\u001b[0m\u001b[0marray\u001b[0m\u001b[1;33m(\u001b[0m\u001b[1;33m[\u001b[0m\u001b[1;36m1\u001b[0m\u001b[1;33m,\u001b[0m\u001b[1;36m2\u001b[0m\u001b[1;33m]\u001b[0m\u001b[1;33m)\u001b[0m\u001b[1;33m\u001b[0m\u001b[1;33m\u001b[0m\u001b[0m\n\u001b[0;32m      2\u001b[0m \u001b[0my\u001b[0m \u001b[1;33m=\u001b[0m \u001b[0mnp\u001b[0m\u001b[1;33m.\u001b[0m\u001b[0marray\u001b[0m\u001b[1;33m(\u001b[0m\u001b[1;33m[\u001b[0m\u001b[1;36m4\u001b[0m\u001b[1;33m,\u001b[0m\u001b[1;36m0\u001b[0m\u001b[1;33m]\u001b[0m\u001b[1;33m)\u001b[0m\u001b[1;33m\u001b[0m\u001b[1;33m\u001b[0m\u001b[0m\n\u001b[1;32m----> 3\u001b[1;33m \u001b[0mnp\u001b[0m\u001b[1;33m.\u001b[0m\u001b[0mmax\u001b[0m\u001b[1;33m(\u001b[0m\u001b[0mx\u001b[0m\u001b[1;33m,\u001b[0m\u001b[0my\u001b[0m\u001b[1;33m)\u001b[0m\u001b[1;33m\u001b[0m\u001b[1;33m\u001b[0m\u001b[0m\n\u001b[0m",
      "\u001b[1;32m<__array_function__ internals>\u001b[0m in \u001b[0;36mamax\u001b[1;34m(*args, **kwargs)\u001b[0m\n",
      "\u001b[1;32m~\\anaconda3\\envs\\force_bundle\\lib\\site-packages\\numpy\\core\\fromnumeric.py\u001b[0m in \u001b[0;36mamax\u001b[1;34m(a, axis, out, keepdims, initial, where)\u001b[0m\n\u001b[0;32m   2703\u001b[0m     \u001b[1;36m5\u001b[0m\u001b[1;33m\u001b[0m\u001b[1;33m\u001b[0m\u001b[0m\n\u001b[0;32m   2704\u001b[0m     \"\"\"\n\u001b[1;32m-> 2705\u001b[1;33m     return _wrapreduction(a, np.maximum, 'max', axis, None, out,\n\u001b[0m\u001b[0;32m   2706\u001b[0m                           keepdims=keepdims, initial=initial, where=where)\n\u001b[0;32m   2707\u001b[0m \u001b[1;33m\u001b[0m\u001b[0m\n",
      "\u001b[1;32m~\\anaconda3\\envs\\force_bundle\\lib\\site-packages\\numpy\\core\\fromnumeric.py\u001b[0m in \u001b[0;36m_wrapreduction\u001b[1;34m(obj, ufunc, method, axis, dtype, out, **kwargs)\u001b[0m\n\u001b[0;32m     85\u001b[0m                 \u001b[1;32mreturn\u001b[0m \u001b[0mreduction\u001b[0m\u001b[1;33m(\u001b[0m\u001b[0maxis\u001b[0m\u001b[1;33m=\u001b[0m\u001b[0maxis\u001b[0m\u001b[1;33m,\u001b[0m \u001b[0mout\u001b[0m\u001b[1;33m=\u001b[0m\u001b[0mout\u001b[0m\u001b[1;33m,\u001b[0m \u001b[1;33m**\u001b[0m\u001b[0mpasskwargs\u001b[0m\u001b[1;33m)\u001b[0m\u001b[1;33m\u001b[0m\u001b[1;33m\u001b[0m\u001b[0m\n\u001b[0;32m     86\u001b[0m \u001b[1;33m\u001b[0m\u001b[0m\n\u001b[1;32m---> 87\u001b[1;33m     \u001b[1;32mreturn\u001b[0m \u001b[0mufunc\u001b[0m\u001b[1;33m.\u001b[0m\u001b[0mreduce\u001b[0m\u001b[1;33m(\u001b[0m\u001b[0mobj\u001b[0m\u001b[1;33m,\u001b[0m \u001b[0maxis\u001b[0m\u001b[1;33m,\u001b[0m \u001b[0mdtype\u001b[0m\u001b[1;33m,\u001b[0m \u001b[0mout\u001b[0m\u001b[1;33m,\u001b[0m \u001b[1;33m**\u001b[0m\u001b[0mpasskwargs\u001b[0m\u001b[1;33m)\u001b[0m\u001b[1;33m\u001b[0m\u001b[1;33m\u001b[0m\u001b[0m\n\u001b[0m\u001b[0;32m     88\u001b[0m \u001b[1;33m\u001b[0m\u001b[0m\n\u001b[0;32m     89\u001b[0m \u001b[1;33m\u001b[0m\u001b[0m\n",
      "\u001b[1;31mTypeError\u001b[0m: only integer scalar arrays can be converted to a scalar index"
     ]
    }
   ],
   "source": [
    "x = np.array([1,2])\n",
    "y = np.array([4,0])\n",
    "np.max(x,y)"
   ]
  },
  {
   "cell_type": "code",
   "execution_count": null,
   "metadata": {},
   "outputs": [],
   "source": []
  }
 ],
 "metadata": {
  "kernelspec": {
   "display_name": "Python 3",
   "language": "python",
   "name": "python3"
  },
  "language_info": {
   "codemirror_mode": {
    "name": "ipython",
    "version": 3
   },
   "file_extension": ".py",
   "mimetype": "text/x-python",
   "name": "python",
   "nbconvert_exporter": "python",
   "pygments_lexer": "ipython3",
   "version": "3.8.6"
  }
 },
 "nbformat": 4,
 "nbformat_minor": 4
}
